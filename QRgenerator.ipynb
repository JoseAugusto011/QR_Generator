{
 "cells": [
  {
   "cell_type": "code",
   "execution_count": 15,
   "metadata": {},
   "outputs": [],
   "source": [
    "import qrcode \n",
    "import PIL"
   ]
  },
  {
   "cell_type": "code",
   "execution_count": 16,
   "metadata": {},
   "outputs": [],
   "source": [
    "def Generator(text,i):\n",
    "    qr  =  qrcode.make(text)   \n",
    "    image = qr.save(f\"qr{i}.png\")\n",
    "    #qr.show()\n",
    "    \n",
    "    \n",
    "    "
   ]
  },
  {
   "cell_type": "code",
   "execution_count": 17,
   "metadata": {},
   "outputs": [],
   "source": [
    "links = [\n",
    "    \n",
    "\"https://www.researchgate.net/publication/360038529_Processamento_de_Linguagem_Natural_para_Identificacao_de_Noticias_Falsas_em_Redes_Sociais_Ferramentas_Tendencias_e_Desafios\",\n",
    "\n",
    "\"https://pesquisa-eaesp.fgv.br/publicacoes/pibic/aplicacoes-do-processamento-de-linguagem-natural-nlp-no-brasil-classificacao-de\",\n",
    "\n",
    "\"http://sbseg.sbc.org.br/2020/capitulos/capitulo%202.pdf\",\n",
    "\n",
    "\"http://www.uel.br/cce/dc/wp-content/uploads/TCC_GUILHERME_SAKURAI.pdf\"\n",
    "\n",
    "]"
   ]
  },
  {
   "cell_type": "code",
   "execution_count": 18,
   "metadata": {},
   "outputs": [],
   "source": [
    "links = [Generator(links[i],i) for i in range(len(links))]"
   ]
  }
 ],
 "metadata": {
  "kernelspec": {
   "display_name": "Python 3",
   "language": "python",
   "name": "python3"
  },
  "language_info": {
   "codemirror_mode": {
    "name": "ipython",
    "version": 3
   },
   "file_extension": ".py",
   "mimetype": "text/x-python",
   "name": "python",
   "nbconvert_exporter": "python",
   "pygments_lexer": "ipython3",
   "version": "3.9.7"
  },
  "orig_nbformat": 4,
  "vscode": {
   "interpreter": {
    "hash": "c7eff589202d1b081309a21c1fcab32e7bd6b92ee77a4b4c9e08aff7652052eb"
   }
  }
 },
 "nbformat": 4,
 "nbformat_minor": 2
}
